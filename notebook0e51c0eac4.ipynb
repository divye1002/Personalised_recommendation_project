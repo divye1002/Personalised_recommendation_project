{
 "cells": [
  {
   "cell_type": "code",
   "execution_count": 4,
   "metadata": {
    "_cell_guid": "b1076dfc-b9ad-4769-8c92-a6c4dae69d19",
    "_uuid": "8f2839f25d086af736a60e9eeb907d3b93b6e0e5",
    "execution": {
     "iopub.execute_input": "2023-08-20T14:07:10.395989Z",
     "iopub.status.busy": "2023-08-20T14:07:10.395570Z",
     "iopub.status.idle": "2023-08-20T14:07:10.411900Z",
     "shell.execute_reply": "2023-08-20T14:07:10.410585Z",
     "shell.execute_reply.started": "2023-08-20T14:07:10.395956Z"
    }
   },
   "outputs": [
    {
     "name": "stdout",
     "output_type": "stream",
     "text": [
      "/kaggle/input/amazon-product-reviews/ratings_Electronics (1).csv\n"
     ]
    }
   ],
   "source": [
    "\n",
    "import numpy as np \n",
    "import pandas as pd \n",
    "\n",
    "\n",
    "import os\n",
    "for dirname, _, filenames in os.walk('/kaggle/input'):\n",
    "    for filename in filenames:\n",
    "        print(os.path.join(dirname, filename))\n",
    "\n"
   ]
  },
  {
   "cell_type": "code",
   "execution_count": 5,
   "metadata": {
    "execution": {
     "iopub.execute_input": "2023-08-20T14:07:10.414777Z",
     "iopub.status.busy": "2023-08-20T14:07:10.414166Z",
     "iopub.status.idle": "2023-08-20T14:07:10.418729Z",
     "shell.execute_reply": "2023-08-20T14:07:10.418048Z",
     "shell.execute_reply.started": "2023-08-20T14:07:10.414739Z"
    }
   },
   "outputs": [],
   "source": [
    "import matplotlib.pyplot as plt\n",
    "import seaborn as sns"
   ]
  },
  {
   "cell_type": "code",
   "execution_count": 6,
   "metadata": {
    "execution": {
     "iopub.execute_input": "2023-08-20T14:07:10.420603Z",
     "iopub.status.busy": "2023-08-20T14:07:10.420082Z",
     "iopub.status.idle": "2023-08-20T14:07:10.500438Z",
     "shell.execute_reply": "2023-08-20T14:07:10.499682Z",
     "shell.execute_reply.started": "2023-08-20T14:07:10.420573Z"
    }
   },
   "outputs": [],
   "source": [
    "df = pd.read_csv(\"/kaggle/input/amazon-product-reviews/ratings_Electronics (1).csv\",nrows = 40000,names=['user_id','product_id','ratings','timestamp'])"
   ]
  },
  {
   "cell_type": "code",
   "execution_count": 7,
   "metadata": {
    "execution": {
     "iopub.execute_input": "2023-08-20T14:07:10.502731Z",
     "iopub.status.busy": "2023-08-20T14:07:10.502249Z",
     "iopub.status.idle": "2023-08-20T14:07:10.529316Z",
     "shell.execute_reply": "2023-08-20T14:07:10.527543Z",
     "shell.execute_reply.started": "2023-08-20T14:07:10.502661Z"
    }
   },
   "outputs": [
    {
     "data": {
      "text/html": [
       "<div>\n",
       "<style scoped>\n",
       "    .dataframe tbody tr th:only-of-type {\n",
       "        vertical-align: middle;\n",
       "    }\n",
       "\n",
       "    .dataframe tbody tr th {\n",
       "        vertical-align: top;\n",
       "    }\n",
       "\n",
       "    .dataframe thead th {\n",
       "        text-align: right;\n",
       "    }\n",
       "</style>\n",
       "<table border=\"1\" class=\"dataframe\">\n",
       "  <thead>\n",
       "    <tr style=\"text-align: right;\">\n",
       "      <th></th>\n",
       "      <th>user_id</th>\n",
       "      <th>product_id</th>\n",
       "      <th>ratings</th>\n",
       "      <th>timestamp</th>\n",
       "    </tr>\n",
       "  </thead>\n",
       "  <tbody>\n",
       "    <tr>\n",
       "      <th>0</th>\n",
       "      <td>AKM1MP6P0OYPR</td>\n",
       "      <td>0132793040</td>\n",
       "      <td>5.0</td>\n",
       "      <td>1365811200</td>\n",
       "    </tr>\n",
       "    <tr>\n",
       "      <th>1</th>\n",
       "      <td>A2CX7LUOHB2NDG</td>\n",
       "      <td>0321732944</td>\n",
       "      <td>5.0</td>\n",
       "      <td>1341100800</td>\n",
       "    </tr>\n",
       "    <tr>\n",
       "      <th>2</th>\n",
       "      <td>A2NWSAGRHCP8N5</td>\n",
       "      <td>0439886341</td>\n",
       "      <td>1.0</td>\n",
       "      <td>1367193600</td>\n",
       "    </tr>\n",
       "    <tr>\n",
       "      <th>3</th>\n",
       "      <td>A2WNBOD3WNDNKT</td>\n",
       "      <td>0439886341</td>\n",
       "      <td>3.0</td>\n",
       "      <td>1374451200</td>\n",
       "    </tr>\n",
       "    <tr>\n",
       "      <th>4</th>\n",
       "      <td>A1GI0U4ZRJA8WN</td>\n",
       "      <td>0439886341</td>\n",
       "      <td>1.0</td>\n",
       "      <td>1334707200</td>\n",
       "    </tr>\n",
       "    <tr>\n",
       "      <th>...</th>\n",
       "      <td>...</td>\n",
       "      <td>...</td>\n",
       "      <td>...</td>\n",
       "      <td>...</td>\n",
       "    </tr>\n",
       "    <tr>\n",
       "      <th>39995</th>\n",
       "      <td>ANP0IOKMBVF0Q</td>\n",
       "      <td>B00004SABJ</td>\n",
       "      <td>5.0</td>\n",
       "      <td>1394064000</td>\n",
       "    </tr>\n",
       "    <tr>\n",
       "      <th>39996</th>\n",
       "      <td>AJCL15OJCGHLR</td>\n",
       "      <td>B00004SABJ</td>\n",
       "      <td>1.0</td>\n",
       "      <td>1300233600</td>\n",
       "    </tr>\n",
       "    <tr>\n",
       "      <th>39997</th>\n",
       "      <td>A1JSW2HUMYYSR</td>\n",
       "      <td>B00004SABJ</td>\n",
       "      <td>3.0</td>\n",
       "      <td>1401148800</td>\n",
       "    </tr>\n",
       "    <tr>\n",
       "      <th>39998</th>\n",
       "      <td>A23HAXCOYNR6R5</td>\n",
       "      <td>B00004SABJ</td>\n",
       "      <td>4.0</td>\n",
       "      <td>1368057600</td>\n",
       "    </tr>\n",
       "    <tr>\n",
       "      <th>39999</th>\n",
       "      <td>A10C06FJR55WVY</td>\n",
       "      <td>B00004SABJ</td>\n",
       "      <td>3.0</td>\n",
       "      <td>1361318400</td>\n",
       "    </tr>\n",
       "  </tbody>\n",
       "</table>\n",
       "<p>40000 rows × 4 columns</p>\n",
       "</div>"
      ],
      "text/plain": [
       "              user_id  product_id  ratings   timestamp\n",
       "0       AKM1MP6P0OYPR  0132793040      5.0  1365811200\n",
       "1      A2CX7LUOHB2NDG  0321732944      5.0  1341100800\n",
       "2      A2NWSAGRHCP8N5  0439886341      1.0  1367193600\n",
       "3      A2WNBOD3WNDNKT  0439886341      3.0  1374451200\n",
       "4      A1GI0U4ZRJA8WN  0439886341      1.0  1334707200\n",
       "...               ...         ...      ...         ...\n",
       "39995   ANP0IOKMBVF0Q  B00004SABJ      5.0  1394064000\n",
       "39996   AJCL15OJCGHLR  B00004SABJ      1.0  1300233600\n",
       "39997   A1JSW2HUMYYSR  B00004SABJ      3.0  1401148800\n",
       "39998  A23HAXCOYNR6R5  B00004SABJ      4.0  1368057600\n",
       "39999  A10C06FJR55WVY  B00004SABJ      3.0  1361318400\n",
       "\n",
       "[40000 rows x 4 columns]"
      ]
     },
     "execution_count": 7,
     "metadata": {},
     "output_type": "execute_result"
    }
   ],
   "source": [
    "df"
   ]
  },
  {
   "cell_type": "code",
   "execution_count": 8,
   "metadata": {
    "execution": {
     "iopub.execute_input": "2023-08-20T14:07:10.531019Z",
     "iopub.status.busy": "2023-08-20T14:07:10.530643Z",
     "iopub.status.idle": "2023-08-20T14:07:10.571830Z",
     "shell.execute_reply": "2023-08-20T14:07:10.570729Z",
     "shell.execute_reply.started": "2023-08-20T14:07:10.530989Z"
    }
   },
   "outputs": [
    {
     "name": "stdout",
     "output_type": "stream",
     "text": [
      "<class 'pandas.core.frame.DataFrame'>\n",
      "RangeIndex: 40000 entries, 0 to 39999\n",
      "Data columns (total 4 columns):\n",
      " #   Column      Non-Null Count  Dtype  \n",
      "---  ------      --------------  -----  \n",
      " 0   user_id     40000 non-null  object \n",
      " 1   product_id  40000 non-null  object \n",
      " 2   ratings     40000 non-null  float64\n",
      " 3   timestamp   40000 non-null  int64  \n",
      "dtypes: float64(1), int64(1), object(2)\n",
      "memory usage: 1.2+ MB\n"
     ]
    }
   ],
   "source": [
    "df.info()"
   ]
  },
  {
   "cell_type": "code",
   "execution_count": 9,
   "metadata": {
    "execution": {
     "iopub.execute_input": "2023-08-20T14:07:10.574272Z",
     "iopub.status.busy": "2023-08-20T14:07:10.573063Z",
     "iopub.status.idle": "2023-08-20T14:07:10.595124Z",
     "shell.execute_reply": "2023-08-20T14:07:10.593802Z",
     "shell.execute_reply.started": "2023-08-20T14:07:10.574223Z"
    }
   },
   "outputs": [
    {
     "data": {
      "text/plain": [
       "count    40000.000000\n",
       "mean         4.017400\n",
       "std          1.373169\n",
       "min          1.000000\n",
       "25%          4.000000\n",
       "50%          5.000000\n",
       "75%          5.000000\n",
       "max          5.000000\n",
       "Name: ratings, dtype: float64"
      ]
     },
     "execution_count": 9,
     "metadata": {},
     "output_type": "execute_result"
    }
   ],
   "source": [
    "df.describe()['ratings']"
   ]
  },
  {
   "cell_type": "code",
   "execution_count": 10,
   "metadata": {
    "execution": {
     "iopub.execute_input": "2023-08-20T14:07:10.597040Z",
     "iopub.status.busy": "2023-08-20T14:07:10.596744Z",
     "iopub.status.idle": "2023-08-20T14:07:10.625560Z",
     "shell.execute_reply": "2023-08-20T14:07:10.624114Z",
     "shell.execute_reply.started": "2023-08-20T14:07:10.597014Z"
    }
   },
   "outputs": [
    {
     "data": {
      "text/plain": [
       "0"
      ]
     },
     "execution_count": 10,
     "metadata": {},
     "output_type": "execute_result"
    }
   ],
   "source": [
    "sum(df.duplicated(['user_id','product_id','ratings']))"
   ]
  },
  {
   "cell_type": "code",
   "execution_count": 11,
   "metadata": {
    "execution": {
     "iopub.execute_input": "2023-08-20T14:07:10.627289Z",
     "iopub.status.busy": "2023-08-20T14:07:10.626979Z",
     "iopub.status.idle": "2023-08-20T14:07:10.643964Z",
     "shell.execute_reply": "2023-08-20T14:07:10.643008Z",
     "shell.execute_reply.started": "2023-08-20T14:07:10.627262Z"
    }
   },
   "outputs": [
    {
     "data": {
      "text/plain": [
       "count    40000.000000\n",
       "mean         4.017400\n",
       "std          1.373169\n",
       "min          1.000000\n",
       "25%          4.000000\n",
       "50%          5.000000\n",
       "75%          5.000000\n",
       "max          5.000000\n",
       "Name: ratings, dtype: float64"
      ]
     },
     "execution_count": 11,
     "metadata": {},
     "output_type": "execute_result"
    }
   ],
   "source": [
    "df.describe()['ratings']"
   ]
  },
  {
   "cell_type": "code",
   "execution_count": 12,
   "metadata": {
    "execution": {
     "iopub.execute_input": "2023-08-20T14:07:10.645820Z",
     "iopub.status.busy": "2023-08-20T14:07:10.645126Z",
     "iopub.status.idle": "2023-08-20T14:07:10.665408Z",
     "shell.execute_reply": "2023-08-20T14:07:10.664507Z",
     "shell.execute_reply.started": "2023-08-20T14:07:10.645789Z"
    }
   },
   "outputs": [
    {
     "name": "stdout",
     "output_type": "stream",
     "text": [
      "Total no. of products :  2968\n"
     ]
    }
   ],
   "source": [
    "print('Total no. of products : ',len(np.unique(df.product_id)))"
   ]
  },
  {
   "cell_type": "code",
   "execution_count": 13,
   "metadata": {
    "execution": {
     "iopub.execute_input": "2023-08-20T14:07:10.669213Z",
     "iopub.status.busy": "2023-08-20T14:07:10.668684Z",
     "iopub.status.idle": "2023-08-20T14:07:10.954647Z",
     "shell.execute_reply": "2023-08-20T14:07:10.953588Z",
     "shell.execute_reply.started": "2023-08-20T14:07:10.669186Z"
    }
   },
   "outputs": [
    {
     "data": {
      "image/png": "[encoded data removed]",
      "text/plain": [
       "<Figure size 800x600 with 1 Axes>"
      ]
     },
     "metadata": {},
     "output_type": "display_data"
    }
   ],
   "source": [
    "sns.set(style=\"darkgrid\")\n",
    "plt.figure(figsize=(8, 6))\n",
    "sns.countplot(x=df['ratings'], palette=\"Set1\")  # You can choose a palette for colors\n",
    "plt.xlabel(\"Rating\")\n",
    "plt.ylabel(\"Count\")\n",
    "plt.title(\"Distribution of Ratings\")\n",
    "plt.show()\n"
   ]
  },
  {
   "cell_type": "code",
   "execution_count": 14,
   "metadata": {
    "execution": {
     "iopub.execute_input": "2023-08-20T14:07:10.957048Z",
     "iopub.status.busy": "2023-08-20T14:07:10.956057Z",
     "iopub.status.idle": "2023-08-20T14:07:10.985586Z",
     "shell.execute_reply": "2023-08-20T14:07:10.984045Z",
     "shell.execute_reply.started": "2023-08-20T14:07:10.957015Z"
    }
   },
   "outputs": [],
   "source": [
    "average_ratings = df.groupby(\"product_id\")[\"ratings\"].mean().reset_index()\n",
    "df = df.merge(average_ratings, on=\"product_id\", suffixes=(\"\", \"_avg\"))\n",
    "df.rename(columns={\"ratings_avg\": \"product_average_rating\"}, inplace=True)\n"
   ]
  },
  {
   "cell_type": "code",
   "execution_count": 15,
   "metadata": {
    "execution": {
     "iopub.execute_input": "2023-08-20T14:07:10.987204Z",
     "iopub.status.busy": "2023-08-20T14:07:10.986869Z",
     "iopub.status.idle": "2023-08-20T14:07:11.003537Z",
     "shell.execute_reply": "2023-08-20T14:07:11.001817Z",
     "shell.execute_reply.started": "2023-08-20T14:07:10.987177Z"
    }
   },
   "outputs": [
    {
     "data": {
      "text/html": [
       "<div>\n",
       "<style scoped>\n",
       "    .dataframe tbody tr th:only-of-type {\n",
       "        vertical-align: middle;\n",
       "    }\n",
       "\n",
       "    .dataframe tbody tr th {\n",
       "        vertical-align: top;\n",
       "    }\n",
       "\n",
       "    .dataframe thead th {\n",
       "        text-align: right;\n",
       "    }\n",
       "</style>\n",
       "<table border=\"1\" class=\"dataframe\">\n",
       "  <thead>\n",
       "    <tr style=\"text-align: right;\">\n",
       "      <th></th>\n",
       "      <th>user_id</th>\n",
       "      <th>product_id</th>\n",
       "      <th>ratings</th>\n",
       "      <th>timestamp</th>\n",
       "      <th>product_average_rating</th>\n",
       "    </tr>\n",
       "  </thead>\n",
       "  <tbody>\n",
       "    <tr>\n",
       "      <th>28393</th>\n",
       "      <td>A36CC0SVCZ2M5P</td>\n",
       "      <td>B00001X5AL</td>\n",
       "      <td>4.0</td>\n",
       "      <td>1005004800</td>\n",
       "      <td>3.842105</td>\n",
       "    </tr>\n",
       "    <tr>\n",
       "      <th>1073</th>\n",
       "      <td>A3NL1YLHDPLZ0B</td>\n",
       "      <td>0972683275</td>\n",
       "      <td>5.0</td>\n",
       "      <td>1386547200</td>\n",
       "      <td>4.470980</td>\n",
       "    </tr>\n",
       "    <tr>\n",
       "      <th>15140</th>\n",
       "      <td>A1XP5DDWIHLH0Q</td>\n",
       "      <td>B00000JDF5</td>\n",
       "      <td>5.0</td>\n",
       "      <td>1350950400</td>\n",
       "      <td>4.574468</td>\n",
       "    </tr>\n",
       "    <tr>\n",
       "      <th>34513</th>\n",
       "      <td>A3G01RI3MUWWQ6</td>\n",
       "      <td>B00003CWDQ</td>\n",
       "      <td>2.0</td>\n",
       "      <td>1204070400</td>\n",
       "      <td>4.215278</td>\n",
       "    </tr>\n",
       "    <tr>\n",
       "      <th>11984</th>\n",
       "      <td>AVJRS32YAMTO6</td>\n",
       "      <td>B00000J3Q8</td>\n",
       "      <td>5.0</td>\n",
       "      <td>946944000</td>\n",
       "      <td>3.714286</td>\n",
       "    </tr>\n",
       "    <tr>\n",
       "      <th>8042</th>\n",
       "      <td>ATYDR87DEATVQ</td>\n",
       "      <td>B000001ON6</td>\n",
       "      <td>2.0</td>\n",
       "      <td>1401062400</td>\n",
       "      <td>3.881081</td>\n",
       "    </tr>\n",
       "    <tr>\n",
       "      <th>29937</th>\n",
       "      <td>A1C4YDZGWGH9FX</td>\n",
       "      <td>B0000226QJ</td>\n",
       "      <td>5.0</td>\n",
       "      <td>1010102400</td>\n",
       "      <td>4.360000</td>\n",
       "    </tr>\n",
       "    <tr>\n",
       "      <th>27989</th>\n",
       "      <td>A1K1AAZSD9KWX</td>\n",
       "      <td>B00001WRSJ</td>\n",
       "      <td>5.0</td>\n",
       "      <td>1349913600</td>\n",
       "      <td>4.609079</td>\n",
       "    </tr>\n",
       "    <tr>\n",
       "      <th>37938</th>\n",
       "      <td>A26322OYA05O91</td>\n",
       "      <td>B00004S5H5</td>\n",
       "      <td>5.0</td>\n",
       "      <td>1082851200</td>\n",
       "      <td>4.321429</td>\n",
       "    </tr>\n",
       "    <tr>\n",
       "      <th>5473</th>\n",
       "      <td>A2PDXKPW2ITJ1Y</td>\n",
       "      <td>9966287876</td>\n",
       "      <td>4.0</td>\n",
       "      <td>1379289600</td>\n",
       "      <td>4.000000</td>\n",
       "    </tr>\n",
       "  </tbody>\n",
       "</table>\n",
       "</div>"
      ],
      "text/plain": [
       "              user_id  product_id  ratings   timestamp  product_average_rating\n",
       "28393  A36CC0SVCZ2M5P  B00001X5AL      4.0  1005004800                3.842105\n",
       "1073   A3NL1YLHDPLZ0B  0972683275      5.0  1386547200                4.470980\n",
       "15140  A1XP5DDWIHLH0Q  B00000JDF5      5.0  1350950400                4.574468\n",
       "34513  A3G01RI3MUWWQ6  B00003CWDQ      2.0  1204070400                4.215278\n",
       "11984   AVJRS32YAMTO6  B00000J3Q8      5.0   946944000                3.714286\n",
       "8042    ATYDR87DEATVQ  B000001ON6      2.0  1401062400                3.881081\n",
       "29937  A1C4YDZGWGH9FX  B0000226QJ      5.0  1010102400                4.360000\n",
       "27989   A1K1AAZSD9KWX  B00001WRSJ      5.0  1349913600                4.609079\n",
       "37938  A26322OYA05O91  B00004S5H5      5.0  1082851200                4.321429\n",
       "5473   A2PDXKPW2ITJ1Y  9966287876      4.0  1379289600                4.000000"
      ]
     },
     "execution_count": 15,
     "metadata": {},
     "output_type": "execute_result"
    }
   ],
   "source": [
    "df.sample(10)"
   ]
  },
  {
   "cell_type": "code",
   "execution_count": 16,
   "metadata": {
    "execution": {
     "iopub.execute_input": "2023-08-20T14:07:11.006504Z",
     "iopub.status.busy": "2023-08-20T14:07:11.005490Z",
     "iopub.status.idle": "2023-08-20T14:07:11.077932Z",
     "shell.execute_reply": "2023-08-20T14:07:11.076972Z",
     "shell.execute_reply.started": "2023-08-20T14:07:11.006459Z"
    }
   },
   "outputs": [],
   "source": [
    "average_ratings_user = df.groupby(\"user_id\")[\"ratings\"].mean().reset_index()\n",
    "df = df.merge(average_ratings_user, on=\"user_id\", suffixes=(\"\", \"_avg\"))\n",
    "df.rename(columns={\"ratings_avg\": \"user_average_rating\"}, inplace=True)"
   ]
  },
  {
   "cell_type": "code",
   "execution_count": 17,
   "metadata": {
    "execution": {
     "iopub.execute_input": "2023-08-20T14:07:11.079313Z",
     "iopub.status.busy": "2023-08-20T14:07:11.079036Z",
     "iopub.status.idle": "2023-08-20T14:07:11.094885Z",
     "shell.execute_reply": "2023-08-20T14:07:11.093864Z",
     "shell.execute_reply.started": "2023-08-20T14:07:11.079291Z"
    }
   },
   "outputs": [
    {
     "data": {
      "text/html": [
       "<div>\n",
       "<style scoped>\n",
       "    .dataframe tbody tr th:only-of-type {\n",
       "        vertical-align: middle;\n",
       "    }\n",
       "\n",
       "    .dataframe tbody tr th {\n",
       "        vertical-align: top;\n",
       "    }\n",
       "\n",
       "    .dataframe thead th {\n",
       "        text-align: right;\n",
       "    }\n",
       "</style>\n",
       "<table border=\"1\" class=\"dataframe\">\n",
       "  <thead>\n",
       "    <tr style=\"text-align: right;\">\n",
       "      <th></th>\n",
       "      <th>user_id</th>\n",
       "      <th>product_id</th>\n",
       "      <th>ratings</th>\n",
       "      <th>timestamp</th>\n",
       "      <th>product_average_rating</th>\n",
       "      <th>user_average_rating</th>\n",
       "    </tr>\n",
       "  </thead>\n",
       "  <tbody>\n",
       "    <tr>\n",
       "      <th>4637</th>\n",
       "      <td>A3RUL1FLK6Q4BB</td>\n",
       "      <td>8918010656</td>\n",
       "      <td>5.0</td>\n",
       "      <td>1398643200</td>\n",
       "      <td>4.724138</td>\n",
       "      <td>5.0</td>\n",
       "    </tr>\n",
       "    <tr>\n",
       "      <th>21468</th>\n",
       "      <td>A3P668ITIZXYNG</td>\n",
       "      <td>B00001OPJZ</td>\n",
       "      <td>4.0</td>\n",
       "      <td>1215734400</td>\n",
       "      <td>3.988764</td>\n",
       "      <td>4.0</td>\n",
       "    </tr>\n",
       "    <tr>\n",
       "      <th>28730</th>\n",
       "      <td>AWC2TULPHF7XR</td>\n",
       "      <td>B00001WRSJ</td>\n",
       "      <td>5.0</td>\n",
       "      <td>1356652800</td>\n",
       "      <td>4.609079</td>\n",
       "      <td>5.0</td>\n",
       "    </tr>\n",
       "    <tr>\n",
       "      <th>25788</th>\n",
       "      <td>A1GK9OSEUJ20V0</td>\n",
       "      <td>B00001P584</td>\n",
       "      <td>5.0</td>\n",
       "      <td>1391126400</td>\n",
       "      <td>3.533333</td>\n",
       "      <td>5.0</td>\n",
       "    </tr>\n",
       "    <tr>\n",
       "      <th>21291</th>\n",
       "      <td>A2LA9AUI24V7BA</td>\n",
       "      <td>B00001OPJ1</td>\n",
       "      <td>5.0</td>\n",
       "      <td>947462400</td>\n",
       "      <td>4.387097</td>\n",
       "      <td>5.0</td>\n",
       "    </tr>\n",
       "    <tr>\n",
       "      <th>22365</th>\n",
       "      <td>A3S15YGZ6W6EV2</td>\n",
       "      <td>B00001P4XA</td>\n",
       "      <td>5.0</td>\n",
       "      <td>1151625600</td>\n",
       "      <td>3.832470</td>\n",
       "      <td>5.0</td>\n",
       "    </tr>\n",
       "    <tr>\n",
       "      <th>31866</th>\n",
       "      <td>A3DKDUNZG9VTMD</td>\n",
       "      <td>B00002EQCW</td>\n",
       "      <td>5.0</td>\n",
       "      <td>1375747200</td>\n",
       "      <td>4.626478</td>\n",
       "      <td>5.0</td>\n",
       "    </tr>\n",
       "    <tr>\n",
       "      <th>6039</th>\n",
       "      <td>A40HWVDFCZR80</td>\n",
       "      <td>9981724319</td>\n",
       "      <td>3.0</td>\n",
       "      <td>1287446400</td>\n",
       "      <td>2.000000</td>\n",
       "      <td>3.0</td>\n",
       "    </tr>\n",
       "    <tr>\n",
       "      <th>38831</th>\n",
       "      <td>A9QL0B1FXW9P</td>\n",
       "      <td>B00004SABB</td>\n",
       "      <td>3.0</td>\n",
       "      <td>1131494400</td>\n",
       "      <td>4.011650</td>\n",
       "      <td>3.0</td>\n",
       "    </tr>\n",
       "    <tr>\n",
       "      <th>32976</th>\n",
       "      <td>A28GPGQMR32W4Q</td>\n",
       "      <td>B00002SWUE</td>\n",
       "      <td>5.0</td>\n",
       "      <td>954460800</td>\n",
       "      <td>4.288462</td>\n",
       "      <td>5.0</td>\n",
       "    </tr>\n",
       "  </tbody>\n",
       "</table>\n",
       "</div>"
      ],
      "text/plain": [
       "              user_id  product_id  ratings   timestamp  \\\n",
       "4637   A3RUL1FLK6Q4BB  8918010656      5.0  1398643200   \n",
       "21468  A3P668ITIZXYNG  B00001OPJZ      4.0  1215734400   \n",
       "28730   AWC2TULPHF7XR  B00001WRSJ      5.0  1356652800   \n",
       "25788  A1GK9OSEUJ20V0  B00001P584      5.0  1391126400   \n",
       "21291  A2LA9AUI24V7BA  B00001OPJ1      5.0   947462400   \n",
       "22365  A3S15YGZ6W6EV2  B00001P4XA      5.0  1151625600   \n",
       "31866  A3DKDUNZG9VTMD  B00002EQCW      5.0  1375747200   \n",
       "6039    A40HWVDFCZR80  9981724319      3.0  1287446400   \n",
       "38831    A9QL0B1FXW9P  B00004SABB      3.0  1131494400   \n",
       "32976  A28GPGQMR32W4Q  B00002SWUE      5.0   954460800   \n",
       "\n",
       "       product_average_rating  user_average_rating  \n",
       "4637                 4.724138                  5.0  \n",
       "21468                3.988764                  4.0  \n",
       "28730                4.609079                  5.0  \n",
       "25788                3.533333                  5.0  \n",
       "21291                4.387097                  5.0  \n",
       "22365                3.832470                  5.0  \n",
       "31866                4.626478                  5.0  \n",
       "6039                 2.000000                  3.0  \n",
       "38831                4.011650                  3.0  \n",
       "32976                4.288462                  5.0  "
      ]
     },
     "execution_count": 17,
     "metadata": {},
     "output_type": "execute_result"
    }
   ],
   "source": [
    "df.sample(10)"
   ]
  },
  {
   "cell_type": "markdown",
   "metadata": {},
   "source": [
    "# Splitting the dataset into training set and testing set "
   ]
  },
  {
   "cell_type": "code",
   "execution_count": 18,
   "metadata": {
    "execution": {
     "iopub.execute_input": "2023-08-20T14:07:11.096528Z",
     "iopub.status.busy": "2023-08-20T14:07:11.096174Z",
     "iopub.status.idle": "2023-08-20T14:07:11.330337Z",
     "shell.execute_reply": "2023-08-20T14:07:11.329095Z",
     "shell.execute_reply.started": "2023-08-20T14:07:11.096506Z"
    }
   },
   "outputs": [],
   "source": [
    "from sklearn.model_selection import train_test_split\n",
    "train_df , test_df = train_test_split(df[['user_id','product_id','ratings','product_average_rating','user_average_rating']],test_size=0.2,random_state=2)\n"
   ]
  },
  {
   "cell_type": "code",
   "execution_count": 19,
   "metadata": {
    "execution": {
     "iopub.execute_input": "2023-08-20T14:07:11.332737Z",
     "iopub.status.busy": "2023-08-20T14:07:11.332353Z",
     "iopub.status.idle": "2023-08-20T14:07:11.347676Z",
     "shell.execute_reply": "2023-08-20T14:07:11.346182Z",
     "shell.execute_reply.started": "2023-08-20T14:07:11.332704Z"
    }
   },
   "outputs": [
    {
     "data": {
      "text/html": [
       "<div>\n",
       "<style scoped>\n",
       "    .dataframe tbody tr th:only-of-type {\n",
       "        vertical-align: middle;\n",
       "    }\n",
       "\n",
       "    .dataframe tbody tr th {\n",
       "        vertical-align: top;\n",
       "    }\n",
       "\n",
       "    .dataframe thead th {\n",
       "        text-align: right;\n",
       "    }\n",
       "</style>\n",
       "<table border=\"1\" class=\"dataframe\">\n",
       "  <thead>\n",
       "    <tr style=\"text-align: right;\">\n",
       "      <th></th>\n",
       "      <th>user_id</th>\n",
       "      <th>product_id</th>\n",
       "      <th>ratings</th>\n",
       "      <th>product_average_rating</th>\n",
       "      <th>user_average_rating</th>\n",
       "    </tr>\n",
       "  </thead>\n",
       "  <tbody>\n",
       "    <tr>\n",
       "      <th>31392</th>\n",
       "      <td>A12VYWCG0OBMM9</td>\n",
       "      <td>B000026D8E</td>\n",
       "      <td>1.0</td>\n",
       "      <td>3.190476</td>\n",
       "      <td>1.0</td>\n",
       "    </tr>\n",
       "    <tr>\n",
       "      <th>6949</th>\n",
       "      <td>A1IU555GI9W7K3</td>\n",
       "      <td>9985542290</td>\n",
       "      <td>5.0</td>\n",
       "      <td>5.000000</td>\n",
       "      <td>5.0</td>\n",
       "    </tr>\n",
       "    <tr>\n",
       "      <th>8340</th>\n",
       "      <td>A1F0JF1OA9DO77</td>\n",
       "      <td>B00000DM9M</td>\n",
       "      <td>3.0</td>\n",
       "      <td>3.333333</td>\n",
       "      <td>3.0</td>\n",
       "    </tr>\n",
       "    <tr>\n",
       "      <th>21593</th>\n",
       "      <td>A2YSQ0ALSL41SZ</td>\n",
       "      <td>B00001OWYM</td>\n",
       "      <td>5.0</td>\n",
       "      <td>3.111538</td>\n",
       "      <td>5.0</td>\n",
       "    </tr>\n",
       "    <tr>\n",
       "      <th>13988</th>\n",
       "      <td>A272L6CJE7W0NY</td>\n",
       "      <td>B00000J4GC</td>\n",
       "      <td>5.0</td>\n",
       "      <td>4.500000</td>\n",
       "      <td>5.0</td>\n",
       "    </tr>\n",
       "    <tr>\n",
       "      <th>...</th>\n",
       "      <td>...</td>\n",
       "      <td>...</td>\n",
       "      <td>...</td>\n",
       "      <td>...</td>\n",
       "      <td>...</td>\n",
       "    </tr>\n",
       "    <tr>\n",
       "      <th>31019</th>\n",
       "      <td>A32WN34HA23YWH</td>\n",
       "      <td>B000023VQC</td>\n",
       "      <td>1.0</td>\n",
       "      <td>3.739130</td>\n",
       "      <td>1.0</td>\n",
       "    </tr>\n",
       "    <tr>\n",
       "      <th>30280</th>\n",
       "      <td>A3UBMWAQQZJBB3</td>\n",
       "      <td>B00001ZWXA</td>\n",
       "      <td>5.0</td>\n",
       "      <td>4.298193</td>\n",
       "      <td>5.0</td>\n",
       "    </tr>\n",
       "    <tr>\n",
       "      <th>6637</th>\n",
       "      <td>A1R6I0ZLP8M2C9</td>\n",
       "      <td>9984984745</td>\n",
       "      <td>1.0</td>\n",
       "      <td>1.666667</td>\n",
       "      <td>1.0</td>\n",
       "    </tr>\n",
       "    <tr>\n",
       "      <th>35343</th>\n",
       "      <td>A2FENPHM6UFT9E</td>\n",
       "      <td>B00003CWG4</td>\n",
       "      <td>5.0</td>\n",
       "      <td>3.970588</td>\n",
       "      <td>5.0</td>\n",
       "    </tr>\n",
       "    <tr>\n",
       "      <th>23720</th>\n",
       "      <td>AF15PFXL356UU</td>\n",
       "      <td>B00001P4ZH</td>\n",
       "      <td>4.0</td>\n",
       "      <td>4.456386</td>\n",
       "      <td>4.0</td>\n",
       "    </tr>\n",
       "  </tbody>\n",
       "</table>\n",
       "<p>32000 rows × 5 columns</p>\n",
       "</div>"
      ],
      "text/plain": [
       "              user_id  product_id  ratings  product_average_rating  \\\n",
       "31392  A12VYWCG0OBMM9  B000026D8E      1.0                3.190476   \n",
       "6949   A1IU555GI9W7K3  9985542290      5.0                5.000000   \n",
       "8340   A1F0JF1OA9DO77  B00000DM9M      3.0                3.333333   \n",
       "21593  A2YSQ0ALSL41SZ  B00001OWYM      5.0                3.111538   \n",
       "13988  A272L6CJE7W0NY  B00000J4GC      5.0                4.500000   \n",
       "...               ...         ...      ...                     ...   \n",
       "31019  A32WN34HA23YWH  B000023VQC      1.0                3.739130   \n",
       "30280  A3UBMWAQQZJBB3  B00001ZWXA      5.0                4.298193   \n",
       "6637   A1R6I0ZLP8M2C9  9984984745      1.0                1.666667   \n",
       "35343  A2FENPHM6UFT9E  B00003CWG4      5.0                3.970588   \n",
       "23720   AF15PFXL356UU  B00001P4ZH      4.0                4.456386   \n",
       "\n",
       "       user_average_rating  \n",
       "31392                  1.0  \n",
       "6949                   5.0  \n",
       "8340                   3.0  \n",
       "21593                  5.0  \n",
       "13988                  5.0  \n",
       "...                    ...  \n",
       "31019                  1.0  \n",
       "30280                  5.0  \n",
       "6637                   1.0  \n",
       "35343                  5.0  \n",
       "23720                  4.0  \n",
       "\n",
       "[32000 rows x 5 columns]"
      ]
     },
     "execution_count": 19,
     "metadata": {},
     "output_type": "execute_result"
    }
   ],
   "source": [
    "train_df"
   ]
  },
  {
   "cell_type": "code",
   "execution_count": 20,
   "metadata": {
    "execution": {
     "iopub.execute_input": "2023-08-20T14:07:11.349329Z",
     "iopub.status.busy": "2023-08-20T14:07:11.349010Z",
     "iopub.status.idle": "2023-08-20T14:07:11.374305Z",
     "shell.execute_reply": "2023-08-20T14:07:11.372819Z",
     "shell.execute_reply.started": "2023-08-20T14:07:11.349301Z"
    }
   },
   "outputs": [
    {
     "data": {
      "text/html": [
       "<div>\n",
       "<style scoped>\n",
       "    .dataframe tbody tr th:only-of-type {\n",
       "        vertical-align: middle;\n",
       "    }\n",
       "\n",
       "    .dataframe tbody tr th {\n",
       "        vertical-align: top;\n",
       "    }\n",
       "\n",
       "    .dataframe thead th {\n",
       "        text-align: right;\n",
       "    }\n",
       "</style>\n",
       "<table border=\"1\" class=\"dataframe\">\n",
       "  <thead>\n",
       "    <tr style=\"text-align: right;\">\n",
       "      <th></th>\n",
       "      <th>user_id</th>\n",
       "      <th>product_id</th>\n",
       "      <th>ratings</th>\n",
       "      <th>product_average_rating</th>\n",
       "      <th>user_average_rating</th>\n",
       "    </tr>\n",
       "  </thead>\n",
       "  <tbody>\n",
       "    <tr>\n",
       "      <th>2727</th>\n",
       "      <td>A2U220FGYF1D0M</td>\n",
       "      <td>140053271X</td>\n",
       "      <td>5.0</td>\n",
       "      <td>3.900232</td>\n",
       "      <td>5.000000</td>\n",
       "    </tr>\n",
       "    <tr>\n",
       "      <th>26907</th>\n",
       "      <td>AGA1ZY8WV3XC3</td>\n",
       "      <td>B00001W0DH</td>\n",
       "      <td>4.0</td>\n",
       "      <td>4.085890</td>\n",
       "      <td>4.000000</td>\n",
       "    </tr>\n",
       "    <tr>\n",
       "      <th>16283</th>\n",
       "      <td>A3O04WF9J04C6P</td>\n",
       "      <td>B00000JDF5</td>\n",
       "      <td>4.0</td>\n",
       "      <td>4.574468</td>\n",
       "      <td>4.000000</td>\n",
       "    </tr>\n",
       "    <tr>\n",
       "      <th>31845</th>\n",
       "      <td>A35WCRJL7ZO8MZ</td>\n",
       "      <td>B00002EQCW</td>\n",
       "      <td>5.0</td>\n",
       "      <td>4.626478</td>\n",
       "      <td>5.000000</td>\n",
       "    </tr>\n",
       "    <tr>\n",
       "      <th>19862</th>\n",
       "      <td>A3ERVE0AXYWQF6</td>\n",
       "      <td>B00000K1RT</td>\n",
       "      <td>5.0</td>\n",
       "      <td>3.000000</td>\n",
       "      <td>5.000000</td>\n",
       "    </tr>\n",
       "    <tr>\n",
       "      <th>...</th>\n",
       "      <td>...</td>\n",
       "      <td>...</td>\n",
       "      <td>...</td>\n",
       "      <td>...</td>\n",
       "      <td>...</td>\n",
       "    </tr>\n",
       "    <tr>\n",
       "      <th>8614</th>\n",
       "      <td>A3B9H6AUB1IRN2</td>\n",
       "      <td>B00000DM9W</td>\n",
       "      <td>1.0</td>\n",
       "      <td>4.593373</td>\n",
       "      <td>1.000000</td>\n",
       "    </tr>\n",
       "    <tr>\n",
       "      <th>14963</th>\n",
       "      <td>A2PQ99541JVPYL</td>\n",
       "      <td>B00000JBHE</td>\n",
       "      <td>5.0</td>\n",
       "      <td>4.925000</td>\n",
       "      <td>5.000000</td>\n",
       "    </tr>\n",
       "    <tr>\n",
       "      <th>12796</th>\n",
       "      <td>A238V1XTSK9NFE</td>\n",
       "      <td>B00000J3SA</td>\n",
       "      <td>5.0</td>\n",
       "      <td>4.466667</td>\n",
       "      <td>4.333333</td>\n",
       "    </tr>\n",
       "    <tr>\n",
       "      <th>5314</th>\n",
       "      <td>A3HN3M0B15MRN2</td>\n",
       "      <td>9862510447</td>\n",
       "      <td>3.0</td>\n",
       "      <td>3.777778</td>\n",
       "      <td>3.000000</td>\n",
       "    </tr>\n",
       "    <tr>\n",
       "      <th>32354</th>\n",
       "      <td>A3OBTACWE6CLFB</td>\n",
       "      <td>B00002N5E4</td>\n",
       "      <td>5.0</td>\n",
       "      <td>2.974359</td>\n",
       "      <td>5.000000</td>\n",
       "    </tr>\n",
       "  </tbody>\n",
       "</table>\n",
       "<p>8000 rows × 5 columns</p>\n",
       "</div>"
      ],
      "text/plain": [
       "              user_id  product_id  ratings  product_average_rating  \\\n",
       "2727   A2U220FGYF1D0M  140053271X      5.0                3.900232   \n",
       "26907   AGA1ZY8WV3XC3  B00001W0DH      4.0                4.085890   \n",
       "16283  A3O04WF9J04C6P  B00000JDF5      4.0                4.574468   \n",
       "31845  A35WCRJL7ZO8MZ  B00002EQCW      5.0                4.626478   \n",
       "19862  A3ERVE0AXYWQF6  B00000K1RT      5.0                3.000000   \n",
       "...               ...         ...      ...                     ...   \n",
       "8614   A3B9H6AUB1IRN2  B00000DM9W      1.0                4.593373   \n",
       "14963  A2PQ99541JVPYL  B00000JBHE      5.0                4.925000   \n",
       "12796  A238V1XTSK9NFE  B00000J3SA      5.0                4.466667   \n",
       "5314   A3HN3M0B15MRN2  9862510447      3.0                3.777778   \n",
       "32354  A3OBTACWE6CLFB  B00002N5E4      5.0                2.974359   \n",
       "\n",
       "       user_average_rating  \n",
       "2727              5.000000  \n",
       "26907             4.000000  \n",
       "16283             4.000000  \n",
       "31845             5.000000  \n",
       "19862             5.000000  \n",
       "...                    ...  \n",
       "8614              1.000000  \n",
       "14963             5.000000  \n",
       "12796             4.333333  \n",
       "5314              3.000000  \n",
       "32354             5.000000  \n",
       "\n",
       "[8000 rows x 5 columns]"
      ]
     },
     "execution_count": 20,
     "metadata": {},
     "output_type": "execute_result"
    }
   ],
   "source": [
    "test_df"
   ]
  },
  {
   "cell_type": "markdown",
   "metadata": {},
   "source": [
    "# Converting Dataset in Surprise Library suitable format"
   ]
  },
  {
   "cell_type": "code",
   "execution_count": 21,
   "metadata": {
    "execution": {
     "iopub.execute_input": "2023-08-20T14:07:11.376201Z",
     "iopub.status.busy": "2023-08-20T14:07:11.375837Z",
     "iopub.status.idle": "2023-08-20T14:07:11.440327Z",
     "shell.execute_reply": "2023-08-20T14:07:11.438523Z",
     "shell.execute_reply.started": "2023-08-20T14:07:11.376171Z"
    }
   },
   "outputs": [],
   "source": [
    "from surprise import Dataset, Reader"
   ]
  },
  {
   "cell_type": "code",
   "execution_count": 22,
   "metadata": {
    "execution": {
     "iopub.execute_input": "2023-08-20T14:07:11.443004Z",
     "iopub.status.busy": "2023-08-20T14:07:11.442504Z",
     "iopub.status.idle": "2023-08-20T14:07:11.449061Z",
     "shell.execute_reply": "2023-08-20T14:07:11.447347Z",
     "shell.execute_reply.started": "2023-08-20T14:07:11.442964Z"
    }
   },
   "outputs": [],
   "source": [
    "reader = Reader(rating_scale=(1, 5))"
   ]
  },
  {
   "cell_type": "code",
   "execution_count": 23,
   "metadata": {
    "execution": {
     "iopub.execute_input": "2023-08-20T14:07:11.451369Z",
     "iopub.status.busy": "2023-08-20T14:07:11.450933Z",
     "iopub.status.idle": "2023-08-20T14:07:11.509317Z",
     "shell.execute_reply": "2023-08-20T14:07:11.507871Z",
     "shell.execute_reply.started": "2023-08-20T14:07:11.451329Z"
    }
   },
   "outputs": [],
   "source": [
    "data = Dataset.load_from_df(train_df[['product_id', 'user_id', 'ratings']], reader)"
   ]
  },
  {
   "cell_type": "code",
   "execution_count": 24,
   "metadata": {
    "execution": {
     "iopub.execute_input": "2023-08-20T14:07:11.511553Z",
     "iopub.status.busy": "2023-08-20T14:07:11.511209Z",
     "iopub.status.idle": "2023-08-20T14:07:11.562965Z",
     "shell.execute_reply": "2023-08-20T14:07:11.561310Z",
     "shell.execute_reply.started": "2023-08-20T14:07:11.511525Z"
    }
   },
   "outputs": [],
   "source": [
    "trainset = data.build_full_trainset() "
   ]
  },
  {
   "cell_type": "code",
   "execution_count": 25,
   "metadata": {
    "execution": {
     "iopub.execute_input": "2023-08-20T14:07:11.565073Z",
     "iopub.status.busy": "2023-08-20T14:07:11.564612Z",
     "iopub.status.idle": "2023-08-20T14:07:11.573385Z",
     "shell.execute_reply": "2023-08-20T14:07:11.571846Z",
     "shell.execute_reply.started": "2023-08-20T14:07:11.565036Z"
    }
   },
   "outputs": [],
   "source": [
    "testset = list(zip(test_df.product_id.values, test_df.user_id.values, test_df.ratings.values))"
   ]
  },
  {
   "cell_type": "code",
   "execution_count": 26,
   "metadata": {
    "execution": {
     "iopub.execute_input": "2023-08-20T14:07:11.574992Z",
     "iopub.status.busy": "2023-08-20T14:07:11.574627Z",
     "iopub.status.idle": "2023-08-20T14:07:11.589795Z",
     "shell.execute_reply": "2023-08-20T14:07:11.588067Z",
     "shell.execute_reply.started": "2023-08-20T14:07:11.574966Z"
    }
   },
   "outputs": [],
   "source": [
    "from surprise import BaselineOnly"
   ]
  },
  {
   "cell_type": "code",
   "execution_count": 27,
   "metadata": {
    "execution": {
     "iopub.execute_input": "2023-08-20T14:07:11.591794Z",
     "iopub.status.busy": "2023-08-20T14:07:11.591357Z",
     "iopub.status.idle": "2023-08-20T14:07:11.605482Z",
     "shell.execute_reply": "2023-08-20T14:07:11.604655Z",
     "shell.execute_reply.started": "2023-08-20T14:07:11.591755Z"
    }
   },
   "outputs": [],
   "source": [
    "def get_ratings(predictions):\n",
    "    actual = np.array([pred.r_ui for pred in predictions])\n",
    "    pred = np.array([pred.est for pred in predictions])\n",
    "    \n",
    "    return actual, pred\n",
    "\n",
    "def get_errors(predictions, print_them=False):\n",
    "\n",
    "    actual, pred = get_ratings(predictions)\n",
    "    rmse = np.sqrt(np.mean((pred - actual)**2))\n",
    "    mape = np.mean(np.abs(pred - actual)/actual)\n",
    "\n",
    "    return rmse, mape*100\n",
    "\n",
    "\n",
    "def run_surprise(algo, trainset, testset, verbose=True): \n",
    "    \n",
    "    train = dict()\n",
    "    test = dict()\n",
    "   \n",
    "    algo.fit(trainset)\n",
    "    \n",
    "    train_preds = algo.test(trainset.build_testset())\n",
    "    train_actual_ratings, train_pred_ratings = get_ratings(train_preds)\n",
    "    train_rmse, train_mape = get_errors(train_preds)\n",
    "    \n",
    "    \n",
    "    \n",
    "    train['rmse'] = train_rmse\n",
    "    train['mape'] = train_mape\n",
    "    train['predictions'] = train_pred_ratings\n",
    "    \n",
    "    test_preds = algo.test(testset)\n",
    "    test_actual_ratings, test_pred_ratings = get_ratings(test_preds)\n",
    "    test_rmse, test_mape = get_errors(test_preds)\n",
    "    \n",
    "    test['rmse'] = test_rmse\n",
    "    test['mape'] = test_mape\n",
    "    test['predictions'] = test_pred_ratings\n",
    "    \n",
    "    return train, test"
   ]
  },
  {
   "cell_type": "markdown",
   "metadata": {},
   "source": [
    "# Applying BaselineOnly"
   ]
  },
  {
   "cell_type": "code",
   "execution_count": 28,
   "metadata": {
    "execution": {
     "iopub.execute_input": "2023-08-20T14:07:11.606772Z",
     "iopub.status.busy": "2023-08-20T14:07:11.606497Z",
     "iopub.status.idle": "2023-08-20T14:07:12.131535Z",
     "shell.execute_reply": "2023-08-20T14:07:12.130851Z",
     "shell.execute_reply.started": "2023-08-20T14:07:11.606747Z"
    }
   },
   "outputs": [
    {
     "name": "stdout",
     "output_type": "stream",
     "text": [
      "Estimating biases using sgd...\n"
     ]
    }
   ],
   "source": [
    "bsl_options = {'method': 'sgd',\n",
    "               'learning_rate': .001\n",
    "               }\n",
    "bsl_algo = BaselineOnly(bsl_options=bsl_options)\n",
    "bsl_train_results, bsl_test_results = run_surprise(bsl_algo, trainset, testset, verbose=True)"
   ]
  },
  {
   "cell_type": "code",
   "execution_count": 29,
   "metadata": {
    "execution": {
     "iopub.execute_input": "2023-08-20T14:07:12.132904Z",
     "iopub.status.busy": "2023-08-20T14:07:12.132532Z",
     "iopub.status.idle": "2023-08-20T14:07:12.138964Z",
     "shell.execute_reply": "2023-08-20T14:07:12.137855Z",
     "shell.execute_reply.started": "2023-08-20T14:07:12.132882Z"
    }
   },
   "outputs": [
    {
     "data": {
      "text/plain": [
       "{'rmse': 1.3113785480756548,\n",
       " 'mape': 50.98369459017896,\n",
       " 'predictions': array([3.92801333, 4.09199668, 4.54299342, ..., 4.18768149, 4.04399094,\n",
       "        3.48745116])}"
      ]
     },
     "execution_count": 29,
     "metadata": {},
     "output_type": "execute_result"
    }
   ],
   "source": [
    "bsl_test_results"
   ]
  },
  {
   "cell_type": "code",
   "execution_count": 30,
   "metadata": {
    "execution": {
     "iopub.execute_input": "2023-08-20T14:07:12.140939Z",
     "iopub.status.busy": "2023-08-20T14:07:12.140619Z",
     "iopub.status.idle": "2023-08-20T14:07:12.161466Z",
     "shell.execute_reply": "2023-08-20T14:07:12.159255Z",
     "shell.execute_reply.started": "2023-08-20T14:07:12.140912Z"
    }
   },
   "outputs": [
    {
     "data": {
      "text/plain": [
       "{'rmse': 1.2760859979139356,\n",
       " 'mape': 49.93667674107246,\n",
       " 'predictions': array([3.23496214, 3.31424133, 3.23498295, ..., 4.0512511 , 4.0512511 ,\n",
       "        4.0512511 ])}"
      ]
     },
     "execution_count": 30,
     "metadata": {},
     "output_type": "execute_result"
    }
   ],
   "source": [
    "bsl_train_results"
   ]
  },
  {
   "cell_type": "code",
   "execution_count": 31,
   "metadata": {
    "execution": {
     "iopub.execute_input": "2023-08-20T14:07:12.168234Z",
     "iopub.status.busy": "2023-08-20T14:07:12.167856Z",
     "iopub.status.idle": "2023-08-20T14:07:12.176849Z",
     "shell.execute_reply": "2023-08-20T14:07:12.174787Z",
     "shell.execute_reply.started": "2023-08-20T14:07:12.168202Z"
    }
   },
   "outputs": [],
   "source": [
    "from surprise import KNNBaseline"
   ]
  },
  {
   "cell_type": "markdown",
   "metadata": {},
   "source": [
    "# Applying KNN Baseline with user user similarity"
   ]
  },
  {
   "cell_type": "code",
   "execution_count": 32,
   "metadata": {
    "execution": {
     "iopub.execute_input": "2023-08-20T14:07:12.179431Z",
     "iopub.status.busy": "2023-08-20T14:07:12.178949Z",
     "iopub.status.idle": "2023-08-20T14:07:13.099436Z",
     "shell.execute_reply": "2023-08-20T14:07:13.098280Z",
     "shell.execute_reply.started": "2023-08-20T14:07:12.179392Z"
    }
   },
   "outputs": [
    {
     "name": "stdout",
     "output_type": "stream",
     "text": [
      "Estimating biases using sgd...\n",
      "Computing the pearson_baseline similarity matrix...\n",
      "Done computing similarity matrix.\n"
     ]
    }
   ],
   "source": [
    "sim_options = {'user_based' : True,\n",
    "               'name': 'pearson_baseline',\n",
    "               'shrinkage': 100,\n",
    "               'min_support': 2\n",
    "              } \n",
    "bsl_options = {'method': 'sgd'} \n",
    "\n",
    "knn_bsl_u = KNNBaseline(k=40, sim_options = sim_options, bsl_options = bsl_options)\n",
    "knn_bsl_u_train_results, knn_bsl_u_test_results = run_surprise(knn_bsl_u, trainset, testset, verbose=True)"
   ]
  },
  {
   "cell_type": "code",
   "execution_count": 33,
   "metadata": {
    "execution": {
     "iopub.execute_input": "2023-08-20T14:07:13.101629Z",
     "iopub.status.busy": "2023-08-20T14:07:13.100993Z",
     "iopub.status.idle": "2023-08-20T14:07:13.108988Z",
     "shell.execute_reply": "2023-08-20T14:07:13.108057Z",
     "shell.execute_reply.started": "2023-08-20T14:07:13.101588Z"
    }
   },
   "outputs": [
    {
     "data": {
      "text/plain": [
       "{'rmse': 1.2969726976057974,\n",
       " 'mape': 49.66020693108983,\n",
       " 'predictions': array([3.97721322, 4.10384824, 4.55241899, ..., 4.3861616 , 4.10310079,\n",
       "        3.00048199])}"
      ]
     },
     "execution_count": 33,
     "metadata": {},
     "output_type": "execute_result"
    }
   ],
   "source": [
    "knn_bsl_u_test_results"
   ]
  },
  {
   "cell_type": "markdown",
   "metadata": {},
   "source": [
    "# Applying KNN Baseline with product product similarity"
   ]
  },
  {
   "cell_type": "code",
   "execution_count": 34,
   "metadata": {
    "execution": {
     "iopub.execute_input": "2023-08-20T14:07:13.110288Z",
     "iopub.status.busy": "2023-08-20T14:07:13.110052Z",
     "iopub.status.idle": "2023-08-20T14:07:33.262884Z",
     "shell.execute_reply": "2023-08-20T14:07:33.262089Z",
     "shell.execute_reply.started": "2023-08-20T14:07:13.110264Z"
    }
   },
   "outputs": [
    {
     "name": "stdout",
     "output_type": "stream",
     "text": [
      "Estimating biases using sgd...\n",
      "Computing the pearson_baseline similarity matrix...\n",
      "Done computing similarity matrix.\n"
     ]
    }
   ],
   "source": [
    "sim_options = {'user_based' : False,\n",
    "               'name': 'pearson_baseline',\n",
    "               'shrinkage': 100,\n",
    "               'min_support': 2\n",
    "              } \n",
    "bsl_options = {'method': 'sgd'}\n",
    "\n",
    "\n",
    "knn_bsl_p = KNNBaseline(k=40, sim_options = sim_options, bsl_options = bsl_options)\n",
    "\n",
    "knn_bsl_p_train_results, knn_bsl_p_test_results = run_surprise(knn_bsl_p, trainset, testset, verbose=True)\n"
   ]
  },
  {
   "cell_type": "code",
   "execution_count": 35,
   "metadata": {
    "execution": {
     "iopub.execute_input": "2023-08-20T14:07:33.264821Z",
     "iopub.status.busy": "2023-08-20T14:07:33.264023Z",
     "iopub.status.idle": "2023-08-20T14:07:33.272879Z",
     "shell.execute_reply": "2023-08-20T14:07:33.271435Z",
     "shell.execute_reply.started": "2023-08-20T14:07:33.264797Z"
    }
   },
   "outputs": [
    {
     "data": {
      "text/plain": [
       "{'rmse': 1.2961882420108364,\n",
       " 'mape': 49.68509562114108,\n",
       " 'predictions': array([3.97721322, 4.10384824, 4.55241899, ..., 4.3861616 , 4.10310079,\n",
       "        3.00048199])}"
      ]
     },
     "execution_count": 35,
     "metadata": {},
     "output_type": "execute_result"
    }
   ],
   "source": [
    "knn_bsl_p_test_results"
   ]
  },
  {
   "cell_type": "markdown",
   "metadata": {},
   "source": [
    "# Applying Matrix Factorisation using SVD"
   ]
  },
  {
   "cell_type": "code",
   "execution_count": 36,
   "metadata": {
    "execution": {
     "iopub.execute_input": "2023-08-20T14:07:33.274682Z",
     "iopub.status.busy": "2023-08-20T14:07:33.274349Z",
     "iopub.status.idle": "2023-08-20T14:07:33.289762Z",
     "shell.execute_reply": "2023-08-20T14:07:33.288703Z",
     "shell.execute_reply.started": "2023-08-20T14:07:33.274657Z"
    }
   },
   "outputs": [],
   "source": [
    "from surprise import SVD"
   ]
  },
  {
   "cell_type": "code",
   "execution_count": 37,
   "metadata": {
    "execution": {
     "iopub.execute_input": "2023-08-20T14:07:33.291663Z",
     "iopub.status.busy": "2023-08-20T14:07:33.291212Z",
     "iopub.status.idle": "2023-08-20T14:07:34.437546Z",
     "shell.execute_reply": "2023-08-20T14:07:34.436253Z",
     "shell.execute_reply.started": "2023-08-20T14:07:33.291625Z"
    }
   },
   "outputs": [
    {
     "name": "stdout",
     "output_type": "stream",
     "text": [
      "Processing epoch 0\n",
      "Processing epoch 1\n",
      "Processing epoch 2\n",
      "Processing epoch 3\n",
      "Processing epoch 4\n",
      "Processing epoch 5\n",
      "Processing epoch 6\n",
      "Processing epoch 7\n",
      "Processing epoch 8\n",
      "Processing epoch 9\n",
      "Processing epoch 10\n",
      "Processing epoch 11\n",
      "Processing epoch 12\n",
      "Processing epoch 13\n",
      "Processing epoch 14\n",
      "Processing epoch 15\n",
      "Processing epoch 16\n",
      "Processing epoch 17\n",
      "Processing epoch 18\n",
      "Processing epoch 19\n"
     ]
    }
   ],
   "source": [
    "svd = SVD(n_factors=100, biased=True, random_state=15, verbose=True)\n",
    "svd_train_results, svd_test_results = run_surprise(svd, trainset, testset, verbose=True)"
   ]
  },
  {
   "cell_type": "code",
   "execution_count": 38,
   "metadata": {
    "execution": {
     "iopub.execute_input": "2023-08-20T14:07:34.439754Z",
     "iopub.status.busy": "2023-08-20T14:07:34.439372Z",
     "iopub.status.idle": "2023-08-20T14:07:34.447608Z",
     "shell.execute_reply": "2023-08-20T14:07:34.446031Z",
     "shell.execute_reply.started": "2023-08-20T14:07:34.439723Z"
    }
   },
   "outputs": [
    {
     "data": {
      "text/plain": [
       "{'rmse': 0.8326450932433593,\n",
       " 'mape': 31.451539786487842,\n",
       " 'predictions': array([2.16019179, 4.2165492 , 2.21504237, ..., 4.33159984, 4.29819465,\n",
       "        4.35825282])}"
      ]
     },
     "execution_count": 38,
     "metadata": {},
     "output_type": "execute_result"
    }
   ],
   "source": [
    "svd_train_results"
   ]
  },
  {
   "cell_type": "code",
   "execution_count": 39,
   "metadata": {
    "execution": {
     "iopub.execute_input": "2023-08-20T14:07:34.449473Z",
     "iopub.status.busy": "2023-08-20T14:07:34.449086Z",
     "iopub.status.idle": "2023-08-20T14:07:34.465707Z",
     "shell.execute_reply": "2023-08-20T14:07:34.464530Z",
     "shell.execute_reply.started": "2023-08-20T14:07:34.449442Z"
    }
   },
   "outputs": [
    {
     "data": {
      "text/plain": [
       "{'rmse': 1.2977892898874428,\n",
       " 'mape': 49.86180494460798,\n",
       " 'predictions': array([3.9537663 , 4.11073544, 4.56298008, ..., 4.65900554, 4.08437357,\n",
       "        3.02654586])}"
      ]
     },
     "execution_count": 39,
     "metadata": {},
     "output_type": "execute_result"
    }
   ],
   "source": [
    "svd_test_results"
   ]
  },
  {
   "cell_type": "markdown",
   "metadata": {},
   "source": [
    "# Preparing Dataset with all features to be passed to XG Boost"
   ]
  },
  {
   "cell_type": "code",
   "execution_count": 40,
   "metadata": {
    "execution": {
     "iopub.execute_input": "2023-08-20T14:07:34.468309Z",
     "iopub.status.busy": "2023-08-20T14:07:34.467883Z",
     "iopub.status.idle": "2023-08-20T14:07:34.479452Z",
     "shell.execute_reply": "2023-08-20T14:07:34.477779Z",
     "shell.execute_reply.started": "2023-08-20T14:07:34.468278Z"
    }
   },
   "outputs": [],
   "source": [
    "model_eval_test = pd.DataFrame()\n",
    "model_eval_train = pd.DataFrame()"
   ]
  },
  {
   "cell_type": "code",
   "execution_count": 41,
   "metadata": {
    "execution": {
     "iopub.execute_input": "2023-08-20T14:07:34.481888Z",
     "iopub.status.busy": "2023-08-20T14:07:34.481466Z",
     "iopub.status.idle": "2023-08-20T14:07:34.497589Z",
     "shell.execute_reply": "2023-08-20T14:07:34.496632Z",
     "shell.execute_reply.started": "2023-08-20T14:07:34.481856Z"
    }
   },
   "outputs": [],
   "source": [
    "model_eval_train['product_avg_rating']=train_df['product_average_rating'].ravel()\n",
    "model_eval_test['product_avg_rating']=test_df['product_average_rating'].ravel()"
   ]
  },
  {
   "cell_type": "code",
   "execution_count": 42,
   "metadata": {
    "execution": {
     "iopub.execute_input": "2023-08-20T14:07:34.499762Z",
     "iopub.status.busy": "2023-08-20T14:07:34.498592Z",
     "iopub.status.idle": "2023-08-20T14:07:34.514451Z",
     "shell.execute_reply": "2023-08-20T14:07:34.513607Z",
     "shell.execute_reply.started": "2023-08-20T14:07:34.499732Z"
    }
   },
   "outputs": [],
   "source": [
    "model_eval_train['user_avg_rating']=train_df['user_average_rating'].ravel()\n",
    "model_eval_test['user_avg_rating']=test_df['user_average_rating'].ravel()"
   ]
  },
  {
   "cell_type": "code",
   "execution_count": 43,
   "metadata": {
    "execution": {
     "iopub.execute_input": "2023-08-20T14:07:34.516361Z",
     "iopub.status.busy": "2023-08-20T14:07:34.516044Z",
     "iopub.status.idle": "2023-08-20T14:07:34.535707Z",
     "shell.execute_reply": "2023-08-20T14:07:34.534045Z",
     "shell.execute_reply.started": "2023-08-20T14:07:34.516333Z"
    }
   },
   "outputs": [],
   "source": [
    "model_eval_test['knn_bsl_user']= pd.DataFrame(knn_bsl_u_test_results['predictions'])\n",
    "model_eval_train['knn_bsl_user']= pd.DataFrame(knn_bsl_u_train_results['predictions'])"
   ]
  },
  {
   "cell_type": "code",
   "execution_count": 44,
   "metadata": {
    "execution": {
     "iopub.execute_input": "2023-08-20T14:07:34.537507Z",
     "iopub.status.busy": "2023-08-20T14:07:34.537136Z",
     "iopub.status.idle": "2023-08-20T14:07:34.549020Z",
     "shell.execute_reply": "2023-08-20T14:07:34.548187Z",
     "shell.execute_reply.started": "2023-08-20T14:07:34.537476Z"
    }
   },
   "outputs": [],
   "source": [
    "model_eval_test['knn_bsl_prod']= pd.DataFrame(knn_bsl_p_test_results['predictions'])\n",
    "model_eval_train['knn_bsl_prod']= pd.DataFrame(knn_bsl_p_train_results['predictions'])"
   ]
  },
  {
   "cell_type": "code",
   "execution_count": 45,
   "metadata": {
    "execution": {
     "iopub.execute_input": "2023-08-20T14:07:34.551040Z",
     "iopub.status.busy": "2023-08-20T14:07:34.550027Z",
     "iopub.status.idle": "2023-08-20T14:07:34.564953Z",
     "shell.execute_reply": "2023-08-20T14:07:34.563828Z",
     "shell.execute_reply.started": "2023-08-20T14:07:34.550993Z"
    }
   },
   "outputs": [],
   "source": [
    "model_eval_train['bsl']=pd.DataFrame(bsl_train_results['predictions'])\n",
    "model_eval_test['bsl']=pd.DataFrame(bsl_test_results['predictions'])"
   ]
  },
  {
   "cell_type": "code",
   "execution_count": 46,
   "metadata": {
    "execution": {
     "iopub.execute_input": "2023-08-20T14:07:34.567807Z",
     "iopub.status.busy": "2023-08-20T14:07:34.567297Z",
     "iopub.status.idle": "2023-08-20T14:07:34.584315Z",
     "shell.execute_reply": "2023-08-20T14:07:34.583290Z",
     "shell.execute_reply.started": "2023-08-20T14:07:34.567752Z"
    }
   },
   "outputs": [],
   "source": [
    "model_eval_train['svd']= pd.DataFrame(svd_train_results['predictions'])\n",
    "model_eval_test['svd']= pd.DataFrame(svd_test_results['predictions'])"
   ]
  },
  {
   "cell_type": "code",
   "execution_count": 47,
   "metadata": {
    "execution": {
     "iopub.execute_input": "2023-08-20T14:07:34.585970Z",
     "iopub.status.busy": "2023-08-20T14:07:34.585353Z",
     "iopub.status.idle": "2023-08-20T14:07:34.606110Z",
     "shell.execute_reply": "2023-08-20T14:07:34.604801Z",
     "shell.execute_reply.started": "2023-08-20T14:07:34.585942Z"
    }
   },
   "outputs": [],
   "source": [
    "model_eval_train['ratings'] = train_df['ratings'].ravel()\n",
    "model_eval_test['ratings'] = test_df['ratings'].ravel()"
   ]
  },
  {
   "cell_type": "code",
   "execution_count": 48,
   "metadata": {
    "execution": {
     "iopub.execute_input": "2023-08-20T14:07:34.607765Z",
     "iopub.status.busy": "2023-08-20T14:07:34.607122Z",
     "iopub.status.idle": "2023-08-20T14:07:34.635797Z",
     "shell.execute_reply": "2023-08-20T14:07:34.634730Z",
     "shell.execute_reply.started": "2023-08-20T14:07:34.607737Z"
    }
   },
   "outputs": [
    {
     "data": {
      "text/html": [
       "<div>\n",
       "<style scoped>\n",
       "    .dataframe tbody tr th:only-of-type {\n",
       "        vertical-align: middle;\n",
       "    }\n",
       "\n",
       "    .dataframe tbody tr th {\n",
       "        vertical-align: top;\n",
       "    }\n",
       "\n",
       "    .dataframe thead th {\n",
       "        text-align: right;\n",
       "    }\n",
       "</style>\n",
       "<table border=\"1\" class=\"dataframe\">\n",
       "  <thead>\n",
       "    <tr style=\"text-align: right;\">\n",
       "      <th></th>\n",
       "      <th>product_avg_rating</th>\n",
       "      <th>user_avg_rating</th>\n",
       "      <th>knn_bsl_user</th>\n",
       "      <th>knn_bsl_prod</th>\n",
       "      <th>bsl</th>\n",
       "      <th>svd</th>\n",
       "      <th>ratings</th>\n",
       "    </tr>\n",
       "  </thead>\n",
       "  <tbody>\n",
       "    <tr>\n",
       "      <th>0</th>\n",
       "      <td>3.190476</td>\n",
       "      <td>1.0</td>\n",
       "      <td>1.0</td>\n",
       "      <td>1.0</td>\n",
       "      <td>3.234962</td>\n",
       "      <td>2.160192</td>\n",
       "      <td>1.0</td>\n",
       "    </tr>\n",
       "    <tr>\n",
       "      <th>1</th>\n",
       "      <td>5.000000</td>\n",
       "      <td>5.0</td>\n",
       "      <td>5.0</td>\n",
       "      <td>5.0</td>\n",
       "      <td>3.314241</td>\n",
       "      <td>4.216549</td>\n",
       "      <td>5.0</td>\n",
       "    </tr>\n",
       "    <tr>\n",
       "      <th>2</th>\n",
       "      <td>3.333333</td>\n",
       "      <td>3.0</td>\n",
       "      <td>1.0</td>\n",
       "      <td>1.0</td>\n",
       "      <td>3.234983</td>\n",
       "      <td>2.215042</td>\n",
       "      <td>3.0</td>\n",
       "    </tr>\n",
       "    <tr>\n",
       "      <th>3</th>\n",
       "      <td>3.111538</td>\n",
       "      <td>5.0</td>\n",
       "      <td>4.0</td>\n",
       "      <td>4.0</td>\n",
       "      <td>3.294455</td>\n",
       "      <td>3.550955</td>\n",
       "      <td>5.0</td>\n",
       "    </tr>\n",
       "    <tr>\n",
       "      <th>4</th>\n",
       "      <td>4.500000</td>\n",
       "      <td>5.0</td>\n",
       "      <td>5.0</td>\n",
       "      <td>5.0</td>\n",
       "      <td>3.314253</td>\n",
       "      <td>4.125054</td>\n",
       "      <td>5.0</td>\n",
       "    </tr>\n",
       "    <tr>\n",
       "      <th>...</th>\n",
       "      <td>...</td>\n",
       "      <td>...</td>\n",
       "      <td>...</td>\n",
       "      <td>...</td>\n",
       "      <td>...</td>\n",
       "      <td>...</td>\n",
       "      <td>...</td>\n",
       "    </tr>\n",
       "    <tr>\n",
       "      <th>31995</th>\n",
       "      <td>3.739130</td>\n",
       "      <td>1.0</td>\n",
       "      <td>5.0</td>\n",
       "      <td>5.0</td>\n",
       "      <td>4.051251</td>\n",
       "      <td>4.321727</td>\n",
       "      <td>1.0</td>\n",
       "    </tr>\n",
       "    <tr>\n",
       "      <th>31996</th>\n",
       "      <td>4.298193</td>\n",
       "      <td>5.0</td>\n",
       "      <td>3.0</td>\n",
       "      <td>3.0</td>\n",
       "      <td>3.972768</td>\n",
       "      <td>3.851735</td>\n",
       "      <td>5.0</td>\n",
       "    </tr>\n",
       "    <tr>\n",
       "      <th>31997</th>\n",
       "      <td>1.666667</td>\n",
       "      <td>1.0</td>\n",
       "      <td>5.0</td>\n",
       "      <td>5.0</td>\n",
       "      <td>4.051251</td>\n",
       "      <td>4.331600</td>\n",
       "      <td>1.0</td>\n",
       "    </tr>\n",
       "    <tr>\n",
       "      <th>31998</th>\n",
       "      <td>3.970588</td>\n",
       "      <td>5.0</td>\n",
       "      <td>5.0</td>\n",
       "      <td>5.0</td>\n",
       "      <td>4.051251</td>\n",
       "      <td>4.298195</td>\n",
       "      <td>5.0</td>\n",
       "    </tr>\n",
       "    <tr>\n",
       "      <th>31999</th>\n",
       "      <td>4.456386</td>\n",
       "      <td>4.0</td>\n",
       "      <td>5.0</td>\n",
       "      <td>5.0</td>\n",
       "      <td>4.051251</td>\n",
       "      <td>4.358253</td>\n",
       "      <td>4.0</td>\n",
       "    </tr>\n",
       "  </tbody>\n",
       "</table>\n",
       "<p>32000 rows × 7 columns</p>\n",
       "</div>"
      ],
      "text/plain": [
       "       product_avg_rating  user_avg_rating  knn_bsl_user  knn_bsl_prod  \\\n",
       "0                3.190476              1.0           1.0           1.0   \n",
       "1                5.000000              5.0           5.0           5.0   \n",
       "2                3.333333              3.0           1.0           1.0   \n",
       "3                3.111538              5.0           4.0           4.0   \n",
       "4                4.500000              5.0           5.0           5.0   \n",
       "...                   ...              ...           ...           ...   \n",
       "31995            3.739130              1.0           5.0           5.0   \n",
       "31996            4.298193              5.0           3.0           3.0   \n",
       "31997            1.666667              1.0           5.0           5.0   \n",
       "31998            3.970588              5.0           5.0           5.0   \n",
       "31999            4.456386              4.0           5.0           5.0   \n",
       "\n",
       "            bsl       svd  ratings  \n",
       "0      3.234962  2.160192      1.0  \n",
       "1      3.314241  4.216549      5.0  \n",
       "2      3.234983  2.215042      3.0  \n",
       "3      3.294455  3.550955      5.0  \n",
       "4      3.314253  4.125054      5.0  \n",
       "...         ...       ...      ...  \n",
       "31995  4.051251  4.321727      1.0  \n",
       "31996  3.972768  3.851735      5.0  \n",
       "31997  4.051251  4.331600      1.0  \n",
       "31998  4.051251  4.298195      5.0  \n",
       "31999  4.051251  4.358253      4.0  \n",
       "\n",
       "[32000 rows x 7 columns]"
      ]
     },
     "execution_count": 48,
     "metadata": {},
     "output_type": "execute_result"
    }
   ],
   "source": [
    "model_eval_train"
   ]
  },
  {
   "cell_type": "code",
   "execution_count": 49,
   "metadata": {
    "execution": {
     "iopub.execute_input": "2023-08-20T14:07:34.637887Z",
     "iopub.status.busy": "2023-08-20T14:07:34.636966Z",
     "iopub.status.idle": "2023-08-20T14:07:34.664935Z",
     "shell.execute_reply": "2023-08-20T14:07:34.663877Z",
     "shell.execute_reply.started": "2023-08-20T14:07:34.637826Z"
    }
   },
   "outputs": [
    {
     "data": {
      "text/html": [
       "<div>\n",
       "<style scoped>\n",
       "    .dataframe tbody tr th:only-of-type {\n",
       "        vertical-align: middle;\n",
       "    }\n",
       "\n",
       "    .dataframe tbody tr th {\n",
       "        vertical-align: top;\n",
       "    }\n",
       "\n",
       "    .dataframe thead th {\n",
       "        text-align: right;\n",
       "    }\n",
       "</style>\n",
       "<table border=\"1\" class=\"dataframe\">\n",
       "  <thead>\n",
       "    <tr style=\"text-align: right;\">\n",
       "      <th></th>\n",
       "      <th>product_avg_rating</th>\n",
       "      <th>user_avg_rating</th>\n",
       "      <th>knn_bsl_user</th>\n",
       "      <th>knn_bsl_prod</th>\n",
       "      <th>bsl</th>\n",
       "      <th>svd</th>\n",
       "      <th>ratings</th>\n",
       "    </tr>\n",
       "  </thead>\n",
       "  <tbody>\n",
       "    <tr>\n",
       "      <th>0</th>\n",
       "      <td>3.900232</td>\n",
       "      <td>5.000000</td>\n",
       "      <td>3.977213</td>\n",
       "      <td>3.977213</td>\n",
       "      <td>3.928013</td>\n",
       "      <td>3.953766</td>\n",
       "      <td>5.0</td>\n",
       "    </tr>\n",
       "    <tr>\n",
       "      <th>1</th>\n",
       "      <td>4.085890</td>\n",
       "      <td>4.000000</td>\n",
       "      <td>4.103848</td>\n",
       "      <td>4.103848</td>\n",
       "      <td>4.091997</td>\n",
       "      <td>4.110735</td>\n",
       "      <td>4.0</td>\n",
       "    </tr>\n",
       "    <tr>\n",
       "      <th>2</th>\n",
       "      <td>4.574468</td>\n",
       "      <td>4.000000</td>\n",
       "      <td>4.552419</td>\n",
       "      <td>4.552419</td>\n",
       "      <td>4.542993</td>\n",
       "      <td>4.562980</td>\n",
       "      <td>4.0</td>\n",
       "    </tr>\n",
       "    <tr>\n",
       "      <th>3</th>\n",
       "      <td>4.626478</td>\n",
       "      <td>5.000000</td>\n",
       "      <td>4.599934</td>\n",
       "      <td>4.599934</td>\n",
       "      <td>4.598528</td>\n",
       "      <td>4.594925</td>\n",
       "      <td>5.0</td>\n",
       "    </tr>\n",
       "    <tr>\n",
       "      <th>4</th>\n",
       "      <td>3.000000</td>\n",
       "      <td>5.000000</td>\n",
       "      <td>3.425780</td>\n",
       "      <td>3.425780</td>\n",
       "      <td>3.861511</td>\n",
       "      <td>3.468954</td>\n",
       "      <td>5.0</td>\n",
       "    </tr>\n",
       "    <tr>\n",
       "      <th>...</th>\n",
       "      <td>...</td>\n",
       "      <td>...</td>\n",
       "      <td>...</td>\n",
       "      <td>...</td>\n",
       "      <td>...</td>\n",
       "      <td>...</td>\n",
       "      <td>...</td>\n",
       "    </tr>\n",
       "    <tr>\n",
       "      <th>7995</th>\n",
       "      <td>4.593373</td>\n",
       "      <td>1.000000</td>\n",
       "      <td>4.610534</td>\n",
       "      <td>4.610534</td>\n",
       "      <td>4.616702</td>\n",
       "      <td>4.614775</td>\n",
       "      <td>1.0</td>\n",
       "    </tr>\n",
       "    <tr>\n",
       "      <th>7996</th>\n",
       "      <td>4.925000</td>\n",
       "      <td>5.000000</td>\n",
       "      <td>4.899556</td>\n",
       "      <td>4.899556</td>\n",
       "      <td>4.478584</td>\n",
       "      <td>4.866953</td>\n",
       "      <td>5.0</td>\n",
       "    </tr>\n",
       "    <tr>\n",
       "      <th>7997</th>\n",
       "      <td>4.466667</td>\n",
       "      <td>4.333333</td>\n",
       "      <td>4.386162</td>\n",
       "      <td>4.386162</td>\n",
       "      <td>4.187681</td>\n",
       "      <td>4.659006</td>\n",
       "      <td>5.0</td>\n",
       "    </tr>\n",
       "    <tr>\n",
       "      <th>7998</th>\n",
       "      <td>3.777778</td>\n",
       "      <td>3.000000</td>\n",
       "      <td>4.103101</td>\n",
       "      <td>4.103101</td>\n",
       "      <td>4.043991</td>\n",
       "      <td>4.084374</td>\n",
       "      <td>3.0</td>\n",
       "    </tr>\n",
       "    <tr>\n",
       "      <th>7999</th>\n",
       "      <td>2.974359</td>\n",
       "      <td>5.000000</td>\n",
       "      <td>3.000482</td>\n",
       "      <td>3.000482</td>\n",
       "      <td>3.487451</td>\n",
       "      <td>3.026546</td>\n",
       "      <td>5.0</td>\n",
       "    </tr>\n",
       "  </tbody>\n",
       "</table>\n",
       "<p>8000 rows × 7 columns</p>\n",
       "</div>"
      ],
      "text/plain": [
       "      product_avg_rating  user_avg_rating  knn_bsl_user  knn_bsl_prod  \\\n",
       "0               3.900232         5.000000      3.977213      3.977213   \n",
       "1               4.085890         4.000000      4.103848      4.103848   \n",
       "2               4.574468         4.000000      4.552419      4.552419   \n",
       "3               4.626478         5.000000      4.599934      4.599934   \n",
       "4               3.000000         5.000000      3.425780      3.425780   \n",
       "...                  ...              ...           ...           ...   \n",
       "7995            4.593373         1.000000      4.610534      4.610534   \n",
       "7996            4.925000         5.000000      4.899556      4.899556   \n",
       "7997            4.466667         4.333333      4.386162      4.386162   \n",
       "7998            3.777778         3.000000      4.103101      4.103101   \n",
       "7999            2.974359         5.000000      3.000482      3.000482   \n",
       "\n",
       "           bsl       svd  ratings  \n",
       "0     3.928013  3.953766      5.0  \n",
       "1     4.091997  4.110735      4.0  \n",
       "2     4.542993  4.562980      4.0  \n",
       "3     4.598528  4.594925      5.0  \n",
       "4     3.861511  3.468954      5.0  \n",
       "...        ...       ...      ...  \n",
       "7995  4.616702  4.614775      1.0  \n",
       "7996  4.478584  4.866953      5.0  \n",
       "7997  4.187681  4.659006      5.0  \n",
       "7998  4.043991  4.084374      3.0  \n",
       "7999  3.487451  3.026546      5.0  \n",
       "\n",
       "[8000 rows x 7 columns]"
      ]
     },
     "execution_count": 49,
     "metadata": {},
     "output_type": "execute_result"
    }
   ],
   "source": [
    "model_eval_test"
   ]
  },
  {
   "cell_type": "code",
   "execution_count": 50,
   "metadata": {
    "execution": {
     "iopub.execute_input": "2023-08-20T14:07:34.666583Z",
     "iopub.status.busy": "2023-08-20T14:07:34.666239Z",
     "iopub.status.idle": "2023-08-20T14:07:34.691306Z",
     "shell.execute_reply": "2023-08-20T14:07:34.690340Z",
     "shell.execute_reply.started": "2023-08-20T14:07:34.666555Z"
    }
   },
   "outputs": [
    {
     "name": "stdout",
     "output_type": "stream",
     "text": [
      "<class 'pandas.core.frame.DataFrame'>\n",
      "RangeIndex: 8000 entries, 0 to 7999\n",
      "Data columns (total 7 columns):\n",
      " #   Column              Non-Null Count  Dtype  \n",
      "---  ------              --------------  -----  \n",
      " 0   product_avg_rating  8000 non-null   float64\n",
      " 1   user_avg_rating     8000 non-null   float64\n",
      " 2   knn_bsl_user        8000 non-null   float64\n",
      " 3   knn_bsl_prod        8000 non-null   float64\n",
      " 4   bsl                 8000 non-null   float64\n",
      " 5   svd                 8000 non-null   float64\n",
      " 6   ratings             8000 non-null   float64\n",
      "dtypes: float64(7)\n",
      "memory usage: 437.6 KB\n"
     ]
    }
   ],
   "source": [
    "model_eval_test.info()"
   ]
  },
  {
   "cell_type": "markdown",
   "metadata": {},
   "source": [
    "# Applying XG Boost ensembling technique"
   ]
  },
  {
   "cell_type": "code",
   "execution_count": 51,
   "metadata": {
    "execution": {
     "iopub.execute_input": "2023-08-20T14:07:34.693625Z",
     "iopub.status.busy": "2023-08-20T14:07:34.692376Z",
     "iopub.status.idle": "2023-08-20T14:07:34.893105Z",
     "shell.execute_reply": "2023-08-20T14:07:34.891541Z",
     "shell.execute_reply.started": "2023-08-20T14:07:34.693598Z"
    }
   },
   "outputs": [],
   "source": [
    "import xgboost as xgb"
   ]
  },
  {
   "cell_type": "code",
   "execution_count": 52,
   "metadata": {
    "execution": {
     "iopub.execute_input": "2023-08-20T14:07:34.894874Z",
     "iopub.status.busy": "2023-08-20T14:07:34.894546Z",
     "iopub.status.idle": "2023-08-20T14:07:34.903126Z",
     "shell.execute_reply": "2023-08-20T14:07:34.902431Z",
     "shell.execute_reply.started": "2023-08-20T14:07:34.894846Z"
    }
   },
   "outputs": [],
   "source": [
    "def get_error_metrics(y_true, y_pred):\n",
    "    rmse = np.sqrt(np.mean([ (y_true[i] - y_pred[i])**2 for i in range(len(y_pred)) ]))\n",
    "    mape = np.mean(np.abs( (y_true - y_pred)/y_true )) * 100\n",
    "    return rmse, mape\n",
    "\n",
    "\n",
    "def run_xgboost(algo,  x_train, y_train, x_test, y_test, verbose=True):\n",
    "   \n",
    "    train_results = dict()\n",
    "    test_results = dict()\n",
    "    \n",
    "    \n",
    "    algo.fit(x_train, y_train, eval_metric = 'rmse')\n",
    "   \n",
    "    \n",
    "    y_train_pred = algo.predict(x_train)\n",
    "    \n",
    "    rmse_train, mape_train = get_error_metrics(y_train.values, y_train_pred)\n",
    "    \n",
    "    \n",
    "    train_results = {'rmse': rmse_train,\n",
    "                    'mape' : mape_train,\n",
    "                    'predictions' : y_train_pred}\n",
    "    \n",
    "  \n",
    "    \n",
    "    y_test_pred = algo.predict(x_test) \n",
    "    rmse_test, mape_test = get_error_metrics(y_true=y_test.values, y_pred=y_test_pred)\n",
    "    \n",
    "    test_results = {'rmse': rmse_test,\n",
    "                    'mape' : mape_test,\n",
    "                    'predictions':y_test_pred}\n",
    "    \n",
    "    return train_results, test_results"
   ]
  },
  {
   "cell_type": "code",
   "execution_count": 53,
   "metadata": {
    "execution": {
     "iopub.execute_input": "2023-08-20T14:07:34.904865Z",
     "iopub.status.busy": "2023-08-20T14:07:34.904158Z",
     "iopub.status.idle": "2023-08-20T14:07:37.247202Z",
     "shell.execute_reply": "2023-08-20T14:07:37.246413Z",
     "shell.execute_reply.started": "2023-08-20T14:07:34.904835Z"
    }
   },
   "outputs": [
    {
     "name": "stderr",
     "output_type": "stream",
     "text": [
      "/opt/conda/lib/python3.10/site-packages/xgboost/sklearn.py:835: UserWarning: `eval_metric` in `fit` method is deprecated for better compatibility with scikit-learn, use `eval_metric` in constructor or`set_params` instead.\n",
      "  warnings.warn(\n"
     ]
    }
   ],
   "source": [
    "x_train = model_eval_train[['user_avg_rating','product_avg_rating','knn_bsl_user','knn_bsl_prod','bsl','svd']]\n",
    "y_train = model_eval_train['ratings']\n",
    "\n",
    "x_test = model_eval_test[['user_avg_rating','product_avg_rating','knn_bsl_user','knn_bsl_prod','bsl','svd']]\n",
    "y_test = model_eval_test['ratings']\n",
    "\n",
    "\n",
    "\n",
    "xgb_final = xgb.XGBRegressor(n_jobs=10, random_state=15)\n",
    "train_results, test_results = run_xgboost(xgb_final, x_train, y_train, x_test, y_test)\n",
    "\n"
   ]
  },
  {
   "cell_type": "markdown",
   "metadata": {},
   "source": [
    "# Final errors"
   ]
  },
  {
   "cell_type": "code",
   "execution_count": 54,
   "metadata": {
    "execution": {
     "iopub.execute_input": "2023-08-20T14:07:37.249369Z",
     "iopub.status.busy": "2023-08-20T14:07:37.248392Z",
     "iopub.status.idle": "2023-08-20T14:07:37.257327Z",
     "shell.execute_reply": "2023-08-20T14:07:37.256305Z",
     "shell.execute_reply.started": "2023-08-20T14:07:37.249333Z"
    }
   },
   "outputs": [
    {
     "data": {
      "text/plain": [
       "{'rmse': 0.2536941712403907,\n",
       " 'mape': 2.873999112745126,\n",
       " 'predictions': array([4.9980707, 4.0179625, 3.9985642, ..., 4.733494 , 2.9929569,\n",
       "        5.013036 ], dtype=float32)}"
      ]
     },
     "execution_count": 54,
     "metadata": {},
     "output_type": "execute_result"
    }
   ],
   "source": [
    "test_results"
   ]
  },
  {
   "cell_type": "code",
   "execution_count": 55,
   "metadata": {
    "execution": {
     "iopub.execute_input": "2023-08-20T14:07:37.259026Z",
     "iopub.status.busy": "2023-08-20T14:07:37.258726Z",
     "iopub.status.idle": "2023-08-20T14:07:37.274617Z",
     "shell.execute_reply": "2023-08-20T14:07:37.273272Z",
     "shell.execute_reply.started": "2023-08-20T14:07:37.259002Z"
    }
   },
   "outputs": [
    {
     "data": {
      "text/plain": [
       "{'rmse': 0.17303481648623276,\n",
       " 'mape': 1.842410591840744,\n",
       " 'predictions': array([0.9618561, 5.0063434, 3.0083864, ..., 1.0004319, 5.00221  ,\n",
       "        4.0070434], dtype=float32)}"
      ]
     },
     "execution_count": 55,
     "metadata": {},
     "output_type": "execute_result"
    }
   ],
   "source": [
    "train_results"
   ]
  },
  {
   "cell_type": "markdown",
   "metadata": {},
   "source": [
    "# Let's Recommend"
   ]
  },
  {
   "cell_type": "code",
   "execution_count": 56,
   "metadata": {
    "execution": {
     "iopub.execute_input": "2023-08-20T14:07:53.463518Z",
     "iopub.status.busy": "2023-08-20T14:07:53.463112Z",
     "iopub.status.idle": "2023-08-20T14:07:53.469162Z",
     "shell.execute_reply": "2023-08-20T14:07:53.467790Z",
     "shell.execute_reply.started": "2023-08-20T14:07:53.463485Z"
    }
   },
   "outputs": [],
   "source": [
    "import heapq"
   ]
  },
  {
   "cell_type": "code",
   "execution_count": 60,
   "metadata": {
    "execution": {
     "iopub.execute_input": "2023-08-20T14:11:44.487666Z",
     "iopub.status.busy": "2023-08-20T14:11:44.487331Z",
     "iopub.status.idle": "2023-08-20T14:11:44.494543Z",
     "shell.execute_reply": "2023-08-20T14:11:44.493116Z",
     "shell.execute_reply.started": "2023-08-20T14:11:44.487643Z"
    }
   },
   "outputs": [],
   "source": [
    "def recommend(user_id):\n",
    "    products_available = set(df['product_id'].unique()) - set(df.loc[df['user_id']==user_id,'product_id'].values)\n",
    "    \n",
    "    testset = [(user_id, product_id, 0) for product_id in products_available ]\n",
    "\n",
    "\n",
    "    predictions = svd.test(testset)\n",
    "\n",
    "\n",
    "    top_rated_products = heapq.nlargest(10, predictions, key=lambda x: x.est)\n",
    "\n",
    "\n",
    "    print(\"Top 10 Rated Products in Ranked Order:\")\n",
    "    for rank, prediction in enumerate(top_rated_products, start=1):\n",
    "        print(f\"Rank {rank}: Product ID {prediction.iid}\")\n",
    "        "
   ]
  },
  {
   "cell_type": "code",
   "execution_count": 61,
   "metadata": {
    "execution": {
     "iopub.execute_input": "2023-08-20T14:11:45.648799Z",
     "iopub.status.busy": "2023-08-20T14:11:45.648346Z",
     "iopub.status.idle": "2023-08-20T14:11:45.679121Z",
     "shell.execute_reply": "2023-08-20T14:11:45.677376Z",
     "shell.execute_reply.started": "2023-08-20T14:11:45.648759Z"
    }
   },
   "outputs": [
    {
     "name": "stdout",
     "output_type": "stream",
     "text": [
      "Top 10 Rated Products in Ranked Order:\n",
      "Rank 1: Product ID B00000K0JM\n",
      "Rank 2: Product ID 9967310847\n",
      "Rank 3: Product ID 9985580443\n",
      "Rank 4: Product ID 9985513177\n",
      "Rank 5: Product ID 9985731603\n",
      "Rank 6: Product ID 9985745442\n",
      "Rank 7: Product ID B00004S7NQ\n",
      "Rank 8: Product ID B000023VUD\n",
      "Rank 9: Product ID 998940660X\n",
      "Rank 10: Product ID B00000JBUS\n"
     ]
    }
   ],
   "source": [
    "recommend('AGA1ZY8WV3XC3')"
   ]
  },
  {
   "cell_type": "code",
   "execution_count": null,
   "metadata": {},
   "outputs": [],
   "source": []
  }
 ],
 "metadata": {
  "kernelspec": {
   "display_name": "Python 3 (ipykernel)",
   "language": "python",
   "name": "python3"
  },
  "language_info": {
   "codemirror_mode": {
    "name": "ipython",
    "version": 3
   },
   "file_extension": ".py",
   "mimetype": "text/x-python",
   "name": "python",
   "nbconvert_exporter": "python",
   "pygments_lexer": "ipython3",
   "version": "3.9.7"
  }
 },
 "nbformat": 4,
 "nbformat_minor": 4
}
